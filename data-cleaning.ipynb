{
 "cells": [
  {
   "cell_type": "code",
   "execution_count": null,
   "id": "d51ade7f",
   "metadata": {},
   "outputs": [],
   "source": [
    "import pandas as pd"
   ]
  },
  {
   "cell_type": "markdown",
   "id": "cbd26008",
   "metadata": {},
   "source": [
    "# Data Inflasi"
   ]
  },
  {
   "cell_type": "code",
   "execution_count": null,
   "id": "b4472c9c",
   "metadata": {},
   "outputs": [],
   "source": [
    "df = pd.read_excel('data/Data Inflasi (2000-2025).xlsx')"
   ]
  },
  {
   "cell_type": "code",
   "execution_count": null,
   "id": "9ac75466",
   "metadata": {},
   "outputs": [],
   "source": [
    "df"
   ]
  },
  {
   "cell_type": "code",
   "execution_count": null,
   "id": "e20ac115",
   "metadata": {},
   "outputs": [],
   "source": [
    "df = df.iloc[4:].reset_index(drop=True).drop(columns=['Unnamed: 0', 'Unnamed: 3'])"
   ]
  },
  {
   "cell_type": "code",
   "execution_count": null,
   "id": "e91a5e58",
   "metadata": {},
   "outputs": [],
   "source": [
    "df = df.rename(columns={'Unnamed: 1': 'Tahun', 'Unnamed: 2': 'Inflation Percentage'})"
   ]
  },
  {
   "cell_type": "code",
   "execution_count": null,
   "id": "f7467ff3",
   "metadata": {},
   "outputs": [],
   "source": [
    "df"
   ]
  },
  {
   "cell_type": "code",
   "execution_count": null,
   "id": "8d8839b1",
   "metadata": {},
   "outputs": [],
   "source": [
    "# Split the Tahun column into Bulan and Tahun\n",
    "df[['Bulan', 'Tahun']] = df['Tahun'].str.split(' ', expand=True)"
   ]
  },
  {
   "cell_type": "code",
   "execution_count": null,
   "id": "8cf8881f",
   "metadata": {},
   "outputs": [],
   "source": [
    "df"
   ]
  },
  {
   "cell_type": "code",
   "execution_count": null,
   "id": "d56d7f5c",
   "metadata": {},
   "outputs": [],
   "source": [
    "df.to_csv('data-cleaned/inflation_data_cleaned.csv')"
   ]
  },
  {
   "cell_type": "code",
   "execution_count": null,
   "id": "5f5e1b48",
   "metadata": {},
   "outputs": [],
   "source": []
  },
  {
   "cell_type": "markdown",
   "id": "6e103b93",
   "metadata": {},
   "source": [
    "# Garis Kemiskinan Makanan"
   ]
  },
  {
   "cell_type": "code",
   "execution_count": null,
   "id": "a6216cc7-6cfe-4802-a660-f6eb91b60d3b",
   "metadata": {},
   "outputs": [],
   "source": [
    "data_makanan = {}\n",
    "\n",
    "for tahun in range(2015, 2025):\n",
    "    file = f\"data/Garis Kemiskinan Makanan (Rupiah_Kapita_Bulan) Menurut Provinsi dan Daerah, {tahun}.csv\"\n",
    "    df_makanan = pd.read_csv(file)\n",
    "    data_makanan[tahun] = df_makanan"
   ]
  },
  {
   "cell_type": "code",
   "execution_count": null,
   "id": "c944dc97-31ab-4046-96b5-e56b9aa9335c",
   "metadata": {},
   "outputs": [],
   "source": [
    "data_makanan[2015].head(10)"
   ]
  },
  {
   "cell_type": "code",
   "execution_count": null,
   "id": "c0eb3421-4e10-4fb8-9130-13f9e7f0291f",
   "metadata": {},
   "outputs": [],
   "source": [
    "for tahun in range(2015, 2025):\n",
    "    data_makanan[tahun] = data_makanan[tahun].iloc[4:].reset_index(drop=True).drop(columns=['Unnamed: 3','Unnamed: 6','Unnamed: 9'])\n",
    "    data_makanan[tahun] = data_makanan[tahun].rename(columns={'Unnamed: 1': 'Perkotaan Semester 1 (Maret)', 'Unnamed: 2': 'Perkotaan Semester 2 (September)',\n",
    "                                                             'Unammed: 4':'Perdesaan Semester 1 (Maret)', 'Unnamed: 5':'Perdesaan Semester 2 (September)',\n",
    "                                                             'Unnamed: 7':'Perkotaan+Perdesaan Semester 1 (Maret)', 'Unnamed: 8':'Perkotaan+Perdesaan Semester 2 (September)'})\n",
    "    data_makanan[tahun]['Tahun'] = tahun"
   ]
  },
  {
   "cell_type": "code",
   "execution_count": null,
   "id": "0216ac5c-b7c1-41ef-9b09-e2bf8b4a4d3a",
   "metadata": {},
   "outputs": [],
   "source": [
    "data_makanan[2024].head(10)"
   ]
  },
  {
   "cell_type": "code",
   "execution_count": null,
   "id": "b52e1e58-42ec-4c93-9eb5-c17719c499fd",
   "metadata": {},
   "outputs": [],
   "source": [
    "Data_makanan = pd.concat([data_makanan[tahun] for tahun in range(2015, 2025)],ignore_index = True)\n",
    "Data_makanan"
   ]
  },
  {
   "cell_type": "code",
   "execution_count": null,
   "id": "ff458ecd-74d4-41c6-b138-46410ece09b2",
   "metadata": {},
   "outputs": [],
   "source": [
    "Data_makanan.to_csv('data-cleaned/Garis_Kemiskinan_Makanan_cleaned.csv')"
   ]
  },
  {
   "cell_type": "markdown",
   "id": "f91522f6-4465-487e-8c0f-67456e27b4e7",
   "metadata": {},
   "source": [
    "# Garis Kemiskinan Non-Makanan"
   ]
  },
  {
   "cell_type": "code",
   "execution_count": null,
   "id": "e542d8d7-5767-4eec-98bf-ca6d847ef5ac",
   "metadata": {},
   "outputs": [],
   "source": [
    "data_nonmakanan = {}\n",
    "\n",
    "for tahun in range(2015, 2025):\n",
    "    file = f\"data/Garis Kemiskinan Non-Makanan (Rupiah_Kapita_Bulan) Menurut Provinsi dan Daerah, {tahun}.csv\"\n",
    "    df_nonmakanan = pd.read_csv(file)\n",
    "    data_nonmakanan[tahun] = df_nonmakanan"
   ]
  },
  {
   "cell_type": "code",
   "execution_count": null,
   "id": "d91dbd69-f13b-4d5f-a473-b2a2d435904f",
   "metadata": {},
   "outputs": [],
   "source": [
    "data_nonmakanan[2015].head(10)"
   ]
  },
  {
   "cell_type": "code",
   "execution_count": null,
   "id": "a1f33757-38bf-4a43-8fc5-5787d9b4a9b2",
   "metadata": {},
   "outputs": [],
   "source": [
    "for tahun in range(2015, 2025):\n",
    "    data_nonmakanan[tahun] = data_nonmakanan[tahun].iloc[4:].reset_index(drop=True).drop(columns=['Unnamed: 3','Unnamed: 6','Unnamed: 9'])\n",
    "    data_nonmakanan[tahun] = data_nonmakanan[tahun].rename(columns={'Unnamed: 1': 'Perkotaan Semester 1 (Maret)', 'Unnamed: 2': 'Perkotaan Semester 2 (September)',\n",
    "                                                             'Unammed: 4':'Perdesaan Semester 1 (Maret)', 'Unnamed: 5':'Perdesaan Semester 2 (September)',\n",
    "                                                             'Unnamed: 7':'Perkotaan+Perdesaan Semester 1 (Maret)', 'Unnamed: 8':'Perkotaan+Perdesaan Semester 2 (September)'})\n",
    "    data_nonmakanan[tahun]['Tahun'] = tahun"
   ]
  },
  {
   "cell_type": "code",
   "execution_count": null,
   "id": "07d76d78-d7e2-4637-8efe-f6192fc89fe9",
   "metadata": {},
   "outputs": [],
   "source": [
    "data_nonmakanan[2024].head(10)"
   ]
  },
  {
   "cell_type": "code",
   "execution_count": null,
   "id": "1354ed62-31c3-4cf0-bce3-87339871b17b",
   "metadata": {},
   "outputs": [],
   "source": [
    "Data_nonmakanan = pd.concat([data_nonmakanan[tahun] for tahun in range(2015, 2025)],ignore_index = True)\n",
    "Data_nonmakanan"
   ]
  },
  {
   "cell_type": "code",
   "execution_count": null,
   "id": "45d5df4f-4f0d-468a-bf92-c5262ef77a32",
   "metadata": {},
   "outputs": [],
   "source": [
    "Data_nonmakanan.to_csv('data-cleaned/Garis_Kemiskinan_Non-Makanan_cleaned.csv')"
   ]
  },
  {
   "cell_type": "code",
   "execution_count": null,
   "id": "1416e8b1-3ced-43a4-88f2-7359717d697f",
   "metadata": {},
   "outputs": [],
   "source": [
    "Data_makanan.isnull().sum()"
   ]
  },
  {
   "cell_type": "code",
   "execution_count": null,
   "id": "791aa48d-13d6-4ab5-83f5-bf6a603532cf",
   "metadata": {},
   "outputs": [],
   "source": [
    "Data_nonmakanan.isnull().sum()"
   ]
  }
 ],
 "metadata": {
  "kernelspec": {
   "display_name": "Python 3 (ipykernel)",
   "language": "python",
   "name": "python3"
  },
  "language_info": {
   "codemirror_mode": {
    "name": "ipython",
    "version": 3
   },
   "file_extension": ".py",
   "mimetype": "text/x-python",
   "name": "python",
   "nbconvert_exporter": "python",
   "pygments_lexer": "ipython3",
   "version": "3.13.3"
  }
 },
 "nbformat": 4,
 "nbformat_minor": 5
}
